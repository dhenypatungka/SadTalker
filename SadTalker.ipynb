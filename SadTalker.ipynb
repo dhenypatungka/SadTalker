{
  "cells": [
    {
      "cell_type": "markdown",
      "metadata": {
        "id": "view-in-github",
        "colab_type": "text"
      },
      "source": [
        "<a href=\"https://colab.research.google.com/github/dhenypatungka/SadTalker/blob/main/SadTalker.ipynb\" target=\"_parent\"><img src=\"https://colab.research.google.com/assets/colab-badge.svg\" alt=\"Open In Colab\"/></a>"
      ]
    },
    {
      "cell_type": "markdown",
      "source": [
        "⛪ **TALKING AVATAR**  "
      ],
      "metadata": {
        "id": "6WmKTqEpmCP0"
      }
    },
    {
      "cell_type": "code",
      "execution_count": null,
      "metadata": {
        "cellView": "form",
        "id": "Mdq6j4E5KQAR"
      },
      "outputs": [],
      "source": [
        "# @markdown ## 🧿 1. Install Talking Avatar\n",
        "#@markdown Please wait around 2 mins.\n",
        "!update-alternatives --install /usr/local/bin/python3 python3 /usr/bin/python3.8 2\n",
        "!update-alternatives --install /usr/local/bin/python3 python3 /usr/bin/python3.9 1\n",
        "!sudo apt install python3.8\n",
        "\n",
        "!sudo apt-get install python3.8-distutils\n",
        "\n",
        "!python --version\n",
        "\n",
        "!apt-get update\n",
        "\n",
        "!apt install software-properties-common\n",
        "\n",
        "!sudo dpkg --remove --force-remove-reinstreq python3-pip python3-setuptools python3-wheel\n",
        "\n",
        "!apt-get install python3-pip\n",
        "\n",
        "print('Git clone project and install requirements...')\n",
        "!git clone https://github.com/dhenypatungka/SadTalker &> /dev/null\n",
        "%cd SadTalker\n",
        "!export PYTHONPATH=/content/SadTalker:$PYTHONPATH\n",
        "!python3.8 -m pip install torch==1.12.1+cu113 torchvision==0.13.1+cu113 torchaudio==0.12.1 --extra-index-url https://download.pytorch.org/whl/cu113\n",
        "!apt update\n",
        "!apt install ffmpeg &> /dev/null\n",
        "!python3.8 -m pip install -r requirements.txt\n",
        "!rm -rf checkpoints\n",
        "!bash scripts/download_models.sh"
      ]
    },
    {
      "cell_type": "code",
      "execution_count": null,
      "metadata": {
        "cellView": "form",
        "id": "8LFCR0u5cMU0"
      },
      "outputs": [],
      "source": [
        "# @markdown ## 🧿 2.Upload Image\n",
        "# @markdown Upload Jpg\n",
        "import os\n",
        "from google.colab import files\n",
        "import shutil\n",
        "\n",
        "\n",
        "# upload images\n",
        "uploaded = files.upload()\n",
        "for filename in uploaded.keys():\n",
        "  os.rename(filename, '/content/image.jpg')"
      ]
    },
    {
      "cell_type": "code",
      "execution_count": null,
      "metadata": {
        "cellView": "form",
        "id": "01o0Lv9sy5oK"
      },
      "outputs": [],
      "source": [
        "# @markdown ## 🧿 3. Upload Audio File\n",
        "import os\n",
        "from IPython.display import Audio\n",
        "from IPython.core.display import display\n",
        "\n",
        "upload_method = 'content'\n",
        "\n",
        "#remove previous input audio\n",
        "if os.path.isfile('/content/audio.mp3'):\n",
        "    os.remove('/content/audio.mp3')\n",
        "\n",
        "def displayAudio():\n",
        "  display(Audio('/content/audio.mp3'))\n",
        "\n",
        "#@markdown   Upload MP3.\n",
        "\n",
        "if upload_method == 'content':\n",
        "  from google.colab import files\n",
        "  uploaded = files.upload()\n",
        "  for fn in uploaded.keys():\n",
        "    print('User uploaded file \"{name}\" with length {length} bytes.'.format(\n",
        "        name=fn, length=len(uploaded[fn])))\n",
        "\n",
        "  # Consider only the first file\n",
        "  PATH_TO_YOUR_AUDIO = str(list(uploaded.keys())[0])\n",
        "\n",
        "  # Load audio with specified sampling rate\n",
        "  import librosa\n",
        "  audio, sr = librosa.load(PATH_TO_YOUR_AUDIO, sr=None)\n",
        "\n",
        "  # Save audio with specified sampling rate\n",
        "  import soundfile as sf\n",
        "  sf.write('/content/audio.mp3', audio, sr, format='mp3')\n",
        "\n",
        "  displayAudio()"
      ]
    },
    {
      "cell_type": "code",
      "execution_count": null,
      "metadata": {
        "id": "ToBlDusjK5sS",
        "cellView": "form"
      },
      "outputs": [],
      "source": [
        "# @markdown ## 🧿 4. Create Final Video\n",
        "#@markdown Periksa folder Hasil untuk download final video.\n",
        "\n",
        "suara = \"/content/audio.mp3\"\n",
        "img = \"/content/image.jpg\"\n",
        "mata = \"/content/SadTalker/mata.mp4\"\n",
        "hasil = \"/content/Hasil\"\n",
        "print(img)\n",
        "\n",
        "!python3.8 inference.py \\\n",
        "           --driven_audio {suara} \\\n",
        "           --source_image {img} \\\n",
        "           --result_dir {hasil} \\\n",
        "           --still \\\n",
        "           --preprocess full \\\n",
        "           --enhancer gfpgan \\\n",
        "           --ref_eyeblink {mata}"
      ]
    }
  ],
  "metadata": {
    "accelerator": "GPU",
    "colab": {
      "provenance": [],
      "include_colab_link": true
    },
    "gpuClass": "standard",
    "kernelspec": {
      "display_name": "base",
      "language": "python",
      "name": "python3"
    },
    "language_info": {
      "name": "python",
      "version": "3.9.7"
    },
    "vscode": {
      "interpreter": {
        "hash": "db5031b3636a3f037ea48eb287fd3d023feb9033aefc2a9652a92e470fb0851b"
      }
    }
  },
  "nbformat": 4,
  "nbformat_minor": 0
}